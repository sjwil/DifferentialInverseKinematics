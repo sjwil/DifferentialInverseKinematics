{
 "cells": [
  {
   "cell_type": "code",
   "execution_count": 1,
   "metadata": {},
   "outputs": [],
   "source": [
    "import numpy as np\n",
    "from math import cos, sin, pi\n",
    "\n",
    "# From Ryan Keating via mc-capolei\n",
    "# https://raw.githubusercontent.com/mc-capolei/python-Universal-robot-kinematics/master/universal_robot_kinematics.py\n",
    "\n",
    "# https://www.universal-robots.com/articles/ur/application-installation/dh-parameters-for-calculations-of-kinematics-and-dynamics/\n",
    "# ****** Coefficients ******\n",
    "\n",
    "\n",
    "# UR 5e\n",
    "\n",
    "d1 = 0.1625\n",
    "a2 = -0.425\n",
    "a3 = -0.3922\n",
    "d4 = 0.1333\n",
    "d5 = 0.0997\n",
    "d6 = 0.0996\n",
    "\n",
    "d = np.array([d1, 0, 0, d4, d5, d6])\n",
    "a = np.array([0, a2, a3, 0, 0, 0])\n",
    "alph = np.array([pi / 2, 0, 0, pi / 2, -pi / 2, 0])"
   ]
  },
  {
   "cell_type": "code",
   "execution_count": 2,
   "metadata": {},
   "outputs": [],
   "source": [
    "def AH(n, th):\n",
    "\n",
    "    T_a = np.array(np.identity(4), copy=False)\n",
    "    T_a[0, 3] = a[n - 1]\n",
    "    T_d = np.array(np.identity(4), copy=False)\n",
    "    T_d[2, 3] = d[n - 1]\n",
    "\n",
    "    Rzt = np.array(\n",
    "        [\n",
    "            [cos(th[n - 1]), -sin(th[n - 1]), 0, 0],\n",
    "            [sin(th[n - 1]), cos(th[n - 1]), 0, 0],\n",
    "            [0, 0, 1, 0],\n",
    "            [0, 0, 0, 1],\n",
    "        ],\n",
    "        copy=False,\n",
    "    )\n",
    "\n",
    "    Rxa = np.array(\n",
    "        [\n",
    "            [1, 0, 0, 0],\n",
    "            [0, cos(alph[n - 1]), -sin(alph[n - 1]), 0],\n",
    "            [0, sin(alph[n - 1]), cos(alph[n - 1]), 0],\n",
    "            [0, 0, 0, 1],\n",
    "        ],\n",
    "        copy=False,\n",
    "    )\n",
    "\n",
    "    A_i = T_d @ Rzt @ T_a @ Rxa\n",
    "\n",
    "    return A_i"
   ]
  },
  {
   "cell_type": "code",
   "execution_count": null,
   "metadata": {},
   "outputs": [],
   "source": []
  },
  {
   "cell_type": "code",
   "execution_count": 3,
   "metadata": {},
   "outputs": [],
   "source": [
    "from spatialmath import SE3, Twist3\n",
    "from UR5e import HTrans\n",
    "\n",
    "def get_joint_twists():\n",
    "    # everything in the space frame aka base frame\n",
    "    joint_twists = []\n",
    "    \n",
    "    # first joint\n",
    "    axis = np.array([0, 0, 1]) # rotates around z, right hand rule\n",
    "    point = np.array([0, 0, 0]) # a point on the axis of rotation\n",
    "    twist = Twist3.UnitRevolute(axis, point)\n",
    "    joint_twists.append(twist)\n",
    "    \n",
    "    # second joint\n",
    "    axis = np.array([0, -1, 0])\n",
    "    point = np.array([0, 0, d1])\n",
    "    twist = Twist3.UnitRevolute(axis, point)\n",
    "    joint_twists.append(twist)\n",
    "    \n",
    "    # third joint\n",
    "    axis = np.array([0, -1, 0])\n",
    "    point = np.array([a2, 0, d1])\n",
    "    twist = Twist3.UnitRevolute(axis, point)\n",
    "    joint_twists.append(twist)\n",
    "    \n",
    "    # fourth joint\n",
    "    axis = np.array([0, -1, 0])\n",
    "    point = np.array([a2 + a3, -d4, d1])\n",
    "    twist = Twist3.UnitRevolute(axis, point)\n",
    "    joint_twists.append(twist)\n",
    "    \n",
    "    # fifth joint\n",
    "    axis = np.array([0, 0, -1])\n",
    "    point = np.array([a2 + a3, -d4, d1 - d5])\n",
    "    twist = Twist3.UnitRevolute(axis, point)\n",
    "    joint_twists.append(twist)\n",
    "    \n",
    "    # sixth joint\n",
    "    axis = np.array([0, -1, 0])\n",
    "    point = np.array([a2 + a3, -d4 - d6, d1 - d5])\n",
    "    twist = Twist3.UnitRevolute(axis, point)\n",
    "    joint_twists.append(twist)\n",
    "    \n",
    "    return joint_twists\n",
    "\n",
    "zero_config_fk = HTrans([0]*6, True)[-1]\n",
    "zero_config_fk = SE3(zero_config_fk)    \n",
    "\n",
    "def get_fk_from_twists(joint_angles):\n",
    "    joint_twists = get_joint_twists()\n",
    "    relative_transforms = []\n",
    "    for idx, joint_twist in enumerate(joint_twists):\n",
    "        angle = joint_angles[idx]\n",
    "        transform = SE3(joint_twist.exp(angle))\n",
    "        relative_transforms.append(transform)\n",
    "        \n",
    "    fk = zero_config_fk\n",
    "    for transform in relative_transforms[::-1]:  # apply in reverse order\n",
    "        fk = transform * fk\n",
    "    return fk\n",
    "\n",
    "def get_ur5e_jacobian_from_twists(angles, frame=None):\n",
    "    if frame is None:\n",
    "        frame = \"body\"\n",
    "    joint_twists = get_joint_twists()\n",
    "    relative_transforms = []\n",
    "    for idx, joint_twist in enumerate(joint_twists):\n",
    "        angle = angles[idx]\n",
    "        relative_transforms.append(SE3(joint_twist.exp(angle)))\n",
    "    jacobian = np.zeros([6, 6])\n",
    "    twist_transform = SE3(np.eye(4))\n",
    "    for idx in range(6):\n",
    "        if idx > 0:\n",
    "            twist_transform = twist_transform @ relative_transforms[idx-1]\n",
    "        jacobian[:, idx] = twist_transform.Ad() @ joint_twists[idx].A  \n",
    "    \n",
    "    if frame == \"space\":\n",
    "        return jacobian\n",
    "    elif frame == \"body\":\n",
    "        fk = zero_config_fk\n",
    "        for transform in relative_transforms[::-1]:  # apply in reverse order\n",
    "            fk = transform * fk\n",
    "        return fk.inv().Ad() @ jacobian\n",
    "    else:\n",
    "        raise Exception(f\"frame: {frame} not in (space, body)\")\n",
    "\n",
    "def get_body_twist_from_transform(desired_transform, current_transform):\n",
    "    \"\"\"\n",
    "    Even though both desired_transform and current_transform are in space frame,\n",
    "    this returns a twist in the body frame.\n",
    "    \"\"\"\n",
    "    transform_from_desired = SE3(current_transform).inv().A @ desired_transform\n",
    "    twist = SE3(transform_from_desired).log(twist=True)\n",
    "    return twist\n",
    "\n",
    "def get_body_twist(current, desired):\n",
    "    # swap arguments to match Sam's code\n",
    "    body_twist = get_body_twist_from_transform(desired, current)\n",
    "    return body_twist\n",
    "\n",
    "def get_space_twist(current, desired):\n",
    "    body_twist = get_body_twist(current, desired)\n",
    "    space_twist = SE3(current).Ad() @ body_twist\n",
    "    return space_twist\n",
    "\n",
    "def space_jacobian(joint_angles):\n",
    "    return get_ur5e_jacobian_from_twists(joint_angles, frame=\"space\")\n",
    "    \n",
    "def body_jacobian(joint_angles):\n",
    "    return get_ur5e_jacobian_from_twists(joint_angles, frame=\"body\")\n",
    "    \n"
   ]
  },
  {
   "cell_type": "code",
   "execution_count": 4,
   "metadata": {},
   "outputs": [],
   "source": [
    "# https://github.com/PaperXLV/DifferentialInverseKinematics\n",
    "from Examples import task_one"
   ]
  },
  {
   "cell_type": "code",
   "execution_count": 5,
   "metadata": {},
   "outputs": [],
   "source": [
    "# sam_output = task_one(trials=[35], modes=[\"DLS\"])"
   ]
  },
  {
   "cell_type": "code",
   "execution_count": 6,
   "metadata": {},
   "outputs": [],
   "source": [
    "# space_output = task_one(trials=[35], modes=[\"DLS\"], jacobian_fn=space_jacobian, desired_twist_fn=get_space_twist)"
   ]
  },
  {
   "cell_type": "code",
   "execution_count": 7,
   "metadata": {},
   "outputs": [],
   "source": [
    "# body_output = task_one(trials=[35], modes=[\"DLS\"], jacobian_fn=body_jacobian, desired_twist_fn=get_body_twist)\n"
   ]
  },
  {
   "cell_type": "code",
   "execution_count": 8,
   "metadata": {},
   "outputs": [],
   "source": [
    "# print(space_output[0][:5])\n",
    "# positions = space_output[0]"
   ]
  },
  {
   "cell_type": "code",
   "execution_count": 9,
   "metadata": {},
   "outputs": [
    {
     "data": {
      "text/plain": [
       "'\\nfrom Webots import *\\n# running space_output\\npositions = sam_output[0]\\n# To run the manipulator\\ni = 0\\nwhile robot.step(timestep) != -1:\\n    position = positions[i]\\n    [motor.setPosition(angle) for motor, angle in zip(joint_motors, position)]\\n\\n    i += 1\\n    if i == len(positions):\\n        break\\n'"
      ]
     },
     "execution_count": 9,
     "metadata": {},
     "output_type": "execute_result"
    }
   ],
   "source": [
    "'''\n",
    "from Webots import *\n",
    "# running space_output\n",
    "positions = sam_output[0]\n",
    "# To run the manipulator\n",
    "i = 0\n",
    "while robot.step(timestep) != -1:\n",
    "    position = positions[i]\n",
    "    [motor.setPosition(angle) for motor, angle in zip(joint_motors, position)]\n",
    "\n",
    "    i += 1\n",
    "    if i == len(positions):\n",
    "        break\n",
    "'''"
   ]
  },
  {
   "cell_type": "code",
   "execution_count": 10,
   "metadata": {},
   "outputs": [],
   "source": [
    "# from ProjectResults import create_error_plot, create_ellipse_plot, waypoints"
   ]
  },
  {
   "cell_type": "code",
   "execution_count": 11,
   "metadata": {},
   "outputs": [],
   "source": [
    "# Cosine similarity plot for space output actual and desired twist\n",
    "# create_error_plot(np.array(space_output[3][0]), np.array(space_output[4][0]))"
   ]
  },
  {
   "cell_type": "code",
   "execution_count": 12,
   "metadata": {},
   "outputs": [],
   "source": [
    "# Ellipse plot for space output positions\n",
    "# create_ellipse_plot(np.array(space_output[2][0]), waypoints)"
   ]
  },
  {
   "cell_type": "code",
   "execution_count": 13,
   "metadata": {},
   "outputs": [],
   "source": [
    "from spatialmath.base import trnorm\n",
    "\n",
    "def sam_epsilon(current_pose, desired_pose):\n",
    "    return np.linalg.norm(current_pose - desired_pose)\n",
    "\n",
    "def space_epsilon(current_pose, desired_pose):\n",
    "    twist = get_space_twist(current_pose, desired_pose)\n",
    "    return np.linalg.norm(twist)\n",
    "\n",
    "# Jacobian for the UR5e\n",
    "def Jacobian(joint_angles):\n",
    "    transforms = HTrans(np.array([joint_angle for joint_angle in joint_angles]), True)\n",
    "    end_pos = transforms[-1][0:3, 3]\n",
    "    transforms = [np.identity(4)] + transforms[:-1]\n",
    "    \n",
    "    j = np.zeros((len(transforms), len(transforms)))\n",
    "    for i, T in enumerate(transforms):\n",
    "        # linear component is the cross product of the axis of rotation (z axis) and the vector from joint to end effector\n",
    "        z_axis = T[0:3, 2]\n",
    "        joint_pos = T[0:3, 3]\n",
    "        joint_to_end = np.cross(z_axis, end_pos - joint_pos)\n",
    "        j[0:3, i] = joint_to_end\n",
    "        # rotational component is the axis of rotation (z axis)\n",
    "        j[3:6, i] = z_axis\n",
    "\n",
    "    return j\n",
    "\n",
    "def sam_get_space_twist(current, desired):\n",
    "    # note, this left-multiplies rather than right multiplies\n",
    "    # Space twist from current and desired transform\n",
    "    # trnorm fixed errors with bad (non-orthonormal) rotation matrice\n",
    "    s = SE3(trnorm(desired @ SE3(current).inv().A)).log(twist = True)\n",
    "    # Above will fail when the rotation matrix is the identity. Resolve manually. \n",
    "    if np.isnan(s).any():\n",
    "        s[0:3] = desired[0:3, 3] - current[0:3, 3]\n",
    "        s[3:6] = 0\n",
    "    return s\n",
    "\n",
    "\n",
    "\n",
    "epsilon_fns = [sam_epsilon, space_epsilon]\n",
    "jacobian_fns = [Jacobian, space_jacobian]\n",
    "twist_fns = [sam_get_space_twist, get_space_twist]\n",
    "\n",
    "outputs = []\n",
    "for epsilon_fn in epsilon_fns:\n",
    "  for jacobian_fn in jacobian_fns:\n",
    "    for twist_fn in twist_fns:\n",
    "      output = task_one(\n",
    "        trials=[30], \n",
    "        epsilon_fn=epsilon_fn,\n",
    "        jacobian_fn=jacobian_fn, \n",
    "        desired_twist_fn=twist_fn,\n",
    "        modes=[\"DLS\"])\n",
    "      \n",
    "      positions, iterations, end_effector_positions, desired_twists, actual_twists = output\n",
    "      # outputs += [iterations]\n",
    "      outputs += [positions]\n",
    "# Appears to be no performance difference between the methods - entirely interchangable\n"
   ]
  },
  {
   "cell_type": "code",
   "execution_count": 17,
   "metadata": {},
   "outputs": [
    {
     "name": "stdout",
     "output_type": "stream",
     "text": [
      "8\n",
      "1400\n"
     ]
    }
   ],
   "source": [
    "print(len(outputs))\n",
    "outputs = [position for output in outputs for position in output]\n",
    "print(len(outputs))"
   ]
  },
  {
   "cell_type": "code",
   "execution_count": 18,
   "metadata": {},
   "outputs": [],
   "source": [
    "\n",
    "from Webots import *\n",
    "# running space_output\n",
    "positions = outputs\n",
    "# To run the manipulator\n",
    "i = 0\n",
    "while robot.step(timestep) != -1:\n",
    "    position = positions[i]\n",
    "    # print(position)\n",
    "    [motor.setPosition(angle) for motor, angle in zip(joint_motors, position)]\n",
    "\n",
    "    i += 1\n",
    "    if i == len(positions):\n",
    "        break\n"
   ]
  },
  {
   "cell_type": "code",
   "execution_count": null,
   "metadata": {},
   "outputs": [],
   "source": []
  }
 ],
 "metadata": {
  "interpreter": {
   "hash": "81794d4967e6c3204c66dcd87b604927b115b27c00565d3d43f05ba2f3a2cb0d"
  },
  "kernelspec": {
   "display_name": "Python 3.9.7 64-bit",
   "language": "python",
   "name": "python3"
  },
  "language_info": {
   "codemirror_mode": {
    "name": "ipython",
    "version": 3
   },
   "file_extension": ".py",
   "mimetype": "text/x-python",
   "name": "python",
   "nbconvert_exporter": "python",
   "pygments_lexer": "ipython3",
   "version": "3.9.7"
  }
 },
 "nbformat": 4,
 "nbformat_minor": 4
}
